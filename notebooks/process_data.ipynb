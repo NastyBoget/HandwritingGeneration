{
 "cells": [
  {
   "cell_type": "code",
   "execution_count": 3,
   "metadata": {
    "collapsed": true
   },
   "outputs": [],
   "source": [
    "import os\n",
    "import shutil"
   ]
  },
  {
   "cell_type": "code",
   "execution_count": 2,
   "outputs": [],
   "source": [
    "base_dir = \"symbols_dataset\"\n",
    "dir_names = [\"base_0-42_sm_dig\", \"base_0-42_cap\", \"base_43-160_cap\", \"base_43-160_sm_dig\"]\n",
    "\n",
    "for dir_name in dir_names:\n",
    "    for subdir in os.listdir(os.path.join(base_dir, dir_name)):\n",
    "        subdir_path = os.path.join(base_dir, dir_name, subdir)\n",
    "        if not os.path.isdir(subdir_path):\n",
    "            continue\n",
    "\n",
    "        for img_name in os.listdir(subdir_path):\n",
    "            if not img_name.endswith(\"png\"):\n",
    "                continue\n",
    "\n",
    "            w_num, letter, ext = img_name.split(\"_\")\n",
    "            new_name = f\"{w_num}_{subdir}_{ext}\"\n",
    "            os.rename(os.path.join(subdir_path, img_name), os.path.join(subdir_path, new_name))"
   ],
   "metadata": {
    "collapsed": false,
    "pycharm": {
     "name": "#%%\n"
    }
   }
  },
  {
   "cell_type": "code",
   "execution_count": 5,
   "outputs": [],
   "source": [
    "out_sm_dir = \"sm_dig\"\n",
    "out_cap_dir = \"cap\"\n",
    "\n",
    "in_sm_dirs = [\"base_0-42_sm_dig\", \"base_43-160_sm_dig\"]\n",
    "in_cap_dirs = [\"base_0-42_cap\", \"base_43-160_cap\"]\n",
    "\n",
    "for dir_name in in_sm_dirs:\n",
    "    for subdir in os.listdir(os.path.join(base_dir, dir_name)):\n",
    "        subdir_path = os.path.join(base_dir, dir_name, subdir)\n",
    "        if not os.path.isdir(subdir_path):\n",
    "            continue\n",
    "\n",
    "        if os.path.isdir(os.path.join(base_dir, out_sm_dir, subdir)):\n",
    "            for img_name in os.listdir(subdir_path):\n",
    "                shutil.copy(os.path.join(subdir_path, img_name), os.path.join(base_dir, out_sm_dir, subdir, img_name))\n",
    "        else:\n",
    "            shutil.copytree(subdir_path, os.path.join(base_dir, out_sm_dir, subdir))\n"
   ],
   "metadata": {
    "collapsed": false,
    "pycharm": {
     "name": "#%%\n"
    }
   }
  },
  {
   "cell_type": "code",
   "execution_count": 6,
   "outputs": [],
   "source": [
    "for dir_name in in_cap_dirs:\n",
    "    for subdir in os.listdir(os.path.join(base_dir, dir_name)):\n",
    "        subdir_path = os.path.join(base_dir, dir_name, subdir)\n",
    "        if not os.path.isdir(subdir_path):\n",
    "            continue\n",
    "\n",
    "        if os.path.isdir(os.path.join(base_dir, out_cap_dir, subdir)):\n",
    "            for img_name in os.listdir(subdir_path):\n",
    "                shutil.copy(os.path.join(subdir_path, img_name), os.path.join(base_dir, out_cap_dir, subdir, img_name))\n",
    "        else:\n",
    "            shutil.copytree(subdir_path, os.path.join(base_dir, out_cap_dir, subdir))\n"
   ],
   "metadata": {
    "collapsed": false,
    "pycharm": {
     "name": "#%%\n"
    }
   }
  },
  {
   "cell_type": "code",
   "execution_count": 39,
   "outputs": [],
   "source": [
    "subdir_path = os.path.join(base_dir, out_sm_dir, \"п\")\n",
    "for img_name in os.listdir(subdir_path):\n",
    "    if not img_name.endswith(\"png\"):\n",
    "        continue\n",
    "    first, second = img_name.split(\"-\")\n",
    "    new_name = first + second[1:]\n",
    "    os.rename(os.path.join(subdir_path, img_name), os.path.join(subdir_path, new_name))"
   ],
   "metadata": {
    "collapsed": false,
    "pycharm": {
     "name": "#%%\n"
    }
   }
  },
  {
   "cell_type": "code",
   "execution_count": null,
   "outputs": [],
   "source": [],
   "metadata": {
    "collapsed": false,
    "pycharm": {
     "name": "#%%\n"
    }
   }
  }
 ],
 "metadata": {
  "kernelspec": {
   "display_name": "Python 3",
   "language": "python",
   "name": "python3"
  },
  "language_info": {
   "codemirror_mode": {
    "name": "ipython",
    "version": 2
   },
   "file_extension": ".py",
   "mimetype": "text/x-python",
   "name": "python",
   "nbconvert_exporter": "python",
   "pygments_lexer": "ipython2",
   "version": "2.7.6"
  }
 },
 "nbformat": 4,
 "nbformat_minor": 0
}