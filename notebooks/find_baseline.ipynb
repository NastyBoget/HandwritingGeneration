{
 "cells": [
  {
   "cell_type": "code",
   "execution_count": 14,
   "metadata": {
    "collapsed": true
   },
   "outputs": [],
   "source": [
    "from sklearn import linear_model\n",
    "import numpy as np\n",
    "import cv2\n",
    "import os\n",
    "\n",
    "\n",
    "def detect_baseline(img: np.ndarray, threshold: int = 20) -> int:\n",
    "    \"\"\"\n",
    "    detect baseline\n",
    "    :param img: img to find a baseline\n",
    "    :param threshold: TODO\n",
    "    :returns: TODO\n",
    "    \"\"\"\n",
    "\n",
    "    low = []\n",
    "    for w in range(1, img.shape[1] - 1):\n",
    "        if np.max(img[:, w]) > threshold:\n",
    "            for h in range(img.shape[0] - 5, 0, -1):\n",
    "                if img[h, w] > threshold:\n",
    "                    low += [[h, w]]\n",
    "                    break\n",
    "    points_lower = np.array(low)\n",
    "\n",
    "    # Robust outliers regression\n",
    "    x = points_lower[:, 1].reshape(points_lower.shape[0], 1)\n",
    "    y = points_lower[:, 0].reshape(points_lower.shape[0], 1)\n",
    "    model_ransac = linear_model.RANSACRegressor(linear_model.LinearRegression())\n",
    "    model_ransac.fit(x, y)\n",
    "    y_mean = model_ransac.predict(np.array([img.shape[1] / 2]).reshape(1, -1))\n",
    "\n",
    "    return int(y_mean)"
   ]
  },
  {
   "cell_type": "code",
   "execution_count": 15,
   "outputs": [],
   "source": [
    "base_dir = \"symbols_dataset\"\n",
    "sm_dir = \"sm_dig\"\n",
    "cap_dir = \"cap\"\n",
    "\n",
    "letters = ['д', 'з', 'р', 'у', 'ф', 'ц', 'щ']"
   ],
   "metadata": {
    "collapsed": false,
    "pycharm": {
     "name": "#%%\n"
    }
   }
  },
  {
   "cell_type": "code",
   "execution_count": 20,
   "outputs": [],
   "source": [
    "for i, letter in enumerate(letters):\n",
    "    for j in range(160):\n",
    "        letter_img = cv2.imread(os.path.join(\"..\", base_dir, sm_dir, letter, f\"{j:04d}_{letter}_00.png\"), cv2.IMREAD_GRAYSCALE)\n",
    "        if letter_img is None:\n",
    "            continue\n",
    "\n",
    "        try:\n",
    "            if letter in ['д', 'з', 'у']:\n",
    "                y = detect_baseline(255 - letter_img[:80, :])\n",
    "            else:\n",
    "                y = detect_baseline(255 - letter_img)\n",
    "        except ValueError:\n",
    "            y = 73\n",
    "        letter_img = cv2.line(letter_img, (0, int(y)), (letter_img.shape[1], int(y)), (0,0,255), 2)\n",
    "        cv2.imwrite(os.path.join(\"..\", \"images\", f\"{i}_{j}.png\"), letter_img)"
   ],
   "metadata": {
    "collapsed": false,
    "pycharm": {
     "name": "#%%\n"
    }
   }
  },
  {
   "cell_type": "code",
   "execution_count": null,
   "outputs": [],
   "source": [],
   "metadata": {
    "collapsed": false,
    "pycharm": {
     "name": "#%%\n"
    }
   }
  }
 ],
 "metadata": {
  "kernelspec": {
   "display_name": "Python 3",
   "language": "python",
   "name": "python3"
  },
  "language_info": {
   "codemirror_mode": {
    "name": "ipython",
    "version": 2
   },
   "file_extension": ".py",
   "mimetype": "text/x-python",
   "name": "python",
   "nbconvert_exporter": "python",
   "pygments_lexer": "ipython2",
   "version": "2.7.6"
  }
 },
 "nbformat": 4,
 "nbformat_minor": 0
}